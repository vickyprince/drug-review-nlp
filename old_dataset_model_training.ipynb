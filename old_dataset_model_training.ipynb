{
 "cells": [
  {
   "cell_type": "code",
   "execution_count": 1,
   "id": "a44ad509",
   "metadata": {},
   "outputs": [
    {
     "data": {
      "text/html": [
       "<div>\n",
       "<style scoped>\n",
       "    .dataframe tbody tr th:only-of-type {\n",
       "        vertical-align: middle;\n",
       "    }\n",
       "\n",
       "    .dataframe tbody tr th {\n",
       "        vertical-align: top;\n",
       "    }\n",
       "\n",
       "    .dataframe thead th {\n",
       "        text-align: right;\n",
       "    }\n",
       "</style>\n",
       "<table border=\"1\" class=\"dataframe\">\n",
       "  <thead>\n",
       "    <tr style=\"text-align: right;\">\n",
       "      <th></th>\n",
       "      <th>Unnamed: 0</th>\n",
       "      <th>urlDrugName</th>\n",
       "      <th>rating</th>\n",
       "      <th>effectiveness</th>\n",
       "      <th>sideEffects</th>\n",
       "      <th>condition</th>\n",
       "      <th>benefitsReview</th>\n",
       "      <th>sideEffectsReview</th>\n",
       "      <th>commentsReview</th>\n",
       "    </tr>\n",
       "  </thead>\n",
       "  <tbody>\n",
       "    <tr>\n",
       "      <th>0</th>\n",
       "      <td>2202</td>\n",
       "      <td>enalapril</td>\n",
       "      <td>4</td>\n",
       "      <td>Highly Effective</td>\n",
       "      <td>Mild Side Effects</td>\n",
       "      <td>management of congestive heart failure</td>\n",
       "      <td>slowed the progression of left ventricular dys...</td>\n",
       "      <td>cough, hypotension , proteinuria, impotence , ...</td>\n",
       "      <td>monitor blood pressure , weight and asses for ...</td>\n",
       "    </tr>\n",
       "    <tr>\n",
       "      <th>1</th>\n",
       "      <td>3117</td>\n",
       "      <td>ortho-tri-cyclen</td>\n",
       "      <td>1</td>\n",
       "      <td>Highly Effective</td>\n",
       "      <td>Severe Side Effects</td>\n",
       "      <td>birth prevention</td>\n",
       "      <td>Although this type of birth control has more c...</td>\n",
       "      <td>Heavy Cycle, Cramps, Hot Flashes, Fatigue, Lon...</td>\n",
       "      <td>I Hate This Birth Control, I Would Not Suggest...</td>\n",
       "    </tr>\n",
       "    <tr>\n",
       "      <th>2</th>\n",
       "      <td>1146</td>\n",
       "      <td>ponstel</td>\n",
       "      <td>10</td>\n",
       "      <td>Highly Effective</td>\n",
       "      <td>No Side Effects</td>\n",
       "      <td>menstrual cramps</td>\n",
       "      <td>I was used to having cramps so badly that they...</td>\n",
       "      <td>Heavier bleeding and clotting than normal.</td>\n",
       "      <td>I took 2 pills at the onset of my menstrual cr...</td>\n",
       "    </tr>\n",
       "    <tr>\n",
       "      <th>3</th>\n",
       "      <td>3947</td>\n",
       "      <td>prilosec</td>\n",
       "      <td>3</td>\n",
       "      <td>Marginally Effective</td>\n",
       "      <td>Mild Side Effects</td>\n",
       "      <td>acid reflux</td>\n",
       "      <td>The acid reflux went away for a few months aft...</td>\n",
       "      <td>Constipation, dry mouth and some mild dizzines...</td>\n",
       "      <td>I was given Prilosec prescription at a dose of...</td>\n",
       "    </tr>\n",
       "    <tr>\n",
       "      <th>4</th>\n",
       "      <td>1951</td>\n",
       "      <td>lyrica</td>\n",
       "      <td>2</td>\n",
       "      <td>Marginally Effective</td>\n",
       "      <td>Severe Side Effects</td>\n",
       "      <td>fibromyalgia</td>\n",
       "      <td>I think that the Lyrica was starting to help w...</td>\n",
       "      <td>I felt extremely drugged and dopey.  Could not...</td>\n",
       "      <td>See above</td>\n",
       "    </tr>\n",
       "  </tbody>\n",
       "</table>\n",
       "</div>"
      ],
      "text/plain": [
       "   Unnamed: 0       urlDrugName  rating         effectiveness  \\\n",
       "0        2202         enalapril       4      Highly Effective   \n",
       "1        3117  ortho-tri-cyclen       1      Highly Effective   \n",
       "2        1146           ponstel      10      Highly Effective   \n",
       "3        3947          prilosec       3  Marginally Effective   \n",
       "4        1951            lyrica       2  Marginally Effective   \n",
       "\n",
       "           sideEffects                               condition  \\\n",
       "0    Mild Side Effects  management of congestive heart failure   \n",
       "1  Severe Side Effects                        birth prevention   \n",
       "2      No Side Effects                        menstrual cramps   \n",
       "3    Mild Side Effects                             acid reflux   \n",
       "4  Severe Side Effects                            fibromyalgia   \n",
       "\n",
       "                                      benefitsReview  \\\n",
       "0  slowed the progression of left ventricular dys...   \n",
       "1  Although this type of birth control has more c...   \n",
       "2  I was used to having cramps so badly that they...   \n",
       "3  The acid reflux went away for a few months aft...   \n",
       "4  I think that the Lyrica was starting to help w...   \n",
       "\n",
       "                                   sideEffectsReview  \\\n",
       "0  cough, hypotension , proteinuria, impotence , ...   \n",
       "1  Heavy Cycle, Cramps, Hot Flashes, Fatigue, Lon...   \n",
       "2         Heavier bleeding and clotting than normal.   \n",
       "3  Constipation, dry mouth and some mild dizzines...   \n",
       "4  I felt extremely drugged and dopey.  Could not...   \n",
       "\n",
       "                                      commentsReview  \n",
       "0  monitor blood pressure , weight and asses for ...  \n",
       "1  I Hate This Birth Control, I Would Not Suggest...  \n",
       "2  I took 2 pills at the onset of my menstrual cr...  \n",
       "3  I was given Prilosec prescription at a dose of...  \n",
       "4                                          See above  "
      ]
     },
     "execution_count": 1,
     "metadata": {},
     "output_type": "execute_result"
    }
   ],
   "source": [
    "#Loading and Exploring Data\n",
    "\n",
    "\n",
    "import pandas as pd\n",
    "\n",
    "# Load the datasets\n",
    "train_data_path = 'drugLibTrain_raw.tsv'\n",
    "test_data_path = 'drugLibTest_raw.tsv'\n",
    "\n",
    "# Reading the data\n",
    "train_data = pd.read_csv(train_data_path, sep='\\t')\n",
    "test_data = pd.read_csv(test_data_path, sep='\\t')\n",
    "\n",
    "# Displaying the first few rows of the training data to understand its structure\n",
    "train_data.head()"
   ]
  },
  {
   "cell_type": "code",
   "execution_count": 2,
   "id": "c4332c28",
   "metadata": {},
   "outputs": [
    {
     "name": "stderr",
     "output_type": "stream",
     "text": [
      "[nltk_data] Downloading package stopwords to /home/ayusee/nltk_data...\n",
      "[nltk_data]   Package stopwords is already up-to-date!\n",
      "[nltk_data] Downloading package wordnet to /home/ayusee/nltk_data...\n",
      "[nltk_data]   Package wordnet is already up-to-date!\n"
     ]
    },
    {
     "data": {
      "text/html": [
       "<div>\n",
       "<style scoped>\n",
       "    .dataframe tbody tr th:only-of-type {\n",
       "        vertical-align: middle;\n",
       "    }\n",
       "\n",
       "    .dataframe tbody tr th {\n",
       "        vertical-align: top;\n",
       "    }\n",
       "\n",
       "    .dataframe thead th {\n",
       "        text-align: right;\n",
       "    }\n",
       "</style>\n",
       "<table border=\"1\" class=\"dataframe\">\n",
       "  <thead>\n",
       "    <tr style=\"text-align: right;\">\n",
       "      <th></th>\n",
       "      <th>Unnamed: 0</th>\n",
       "      <th>urlDrugName</th>\n",
       "      <th>rating</th>\n",
       "      <th>effectiveness</th>\n",
       "      <th>sideEffects</th>\n",
       "      <th>condition</th>\n",
       "      <th>benefitsReview</th>\n",
       "      <th>sideEffectsReview</th>\n",
       "      <th>commentsReview</th>\n",
       "    </tr>\n",
       "  </thead>\n",
       "  <tbody>\n",
       "    <tr>\n",
       "      <th>0</th>\n",
       "      <td>2202</td>\n",
       "      <td>enalapril</td>\n",
       "      <td>4</td>\n",
       "      <td>Highly Effective</td>\n",
       "      <td>Mild Side Effects</td>\n",
       "      <td>management of congestive heart failure</td>\n",
       "      <td>slowed progression left ventricular dysfunctio...</td>\n",
       "      <td>cough hypotension proteinuria impotence renal ...</td>\n",
       "      <td>monitor blood pressure weight ass resolution f...</td>\n",
       "    </tr>\n",
       "    <tr>\n",
       "      <th>1</th>\n",
       "      <td>3117</td>\n",
       "      <td>ortho-tri-cyclen</td>\n",
       "      <td>1</td>\n",
       "      <td>Highly Effective</td>\n",
       "      <td>Severe Side Effects</td>\n",
       "      <td>birth prevention</td>\n",
       "      <td>although type birth control con pro help cramp...</td>\n",
       "      <td>heavy cycle cramp hot flash fatigue long lasti...</td>\n",
       "      <td>hate birth control would suggest anyone</td>\n",
       "    </tr>\n",
       "    <tr>\n",
       "      <th>2</th>\n",
       "      <td>1146</td>\n",
       "      <td>ponstel</td>\n",
       "      <td>10</td>\n",
       "      <td>Highly Effective</td>\n",
       "      <td>No Side Effects</td>\n",
       "      <td>menstrual cramps</td>\n",
       "      <td>used cramp badly would leave balled bed least ...</td>\n",
       "      <td>heavier bleeding clotting normal</td>\n",
       "      <td>took pill onset menstrual cramp every hour too...</td>\n",
       "    </tr>\n",
       "    <tr>\n",
       "      <th>3</th>\n",
       "      <td>3947</td>\n",
       "      <td>prilosec</td>\n",
       "      <td>3</td>\n",
       "      <td>Marginally Effective</td>\n",
       "      <td>Mild Side Effects</td>\n",
       "      <td>acid reflux</td>\n",
       "      <td>acid reflux went away month day drug heartburn...</td>\n",
       "      <td>constipation dry mouth mild dizziness would go...</td>\n",
       "      <td>given prilosec prescription dose mg per day me...</td>\n",
       "    </tr>\n",
       "    <tr>\n",
       "      <th>4</th>\n",
       "      <td>1951</td>\n",
       "      <td>lyrica</td>\n",
       "      <td>2</td>\n",
       "      <td>Marginally Effective</td>\n",
       "      <td>Severe Side Effects</td>\n",
       "      <td>fibromyalgia</td>\n",
       "      <td>think lyrica starting help pain side effect se...</td>\n",
       "      <td>felt extremely drugged dopey could drive med a...</td>\n",
       "      <td>see</td>\n",
       "    </tr>\n",
       "  </tbody>\n",
       "</table>\n",
       "</div>"
      ],
      "text/plain": [
       "   Unnamed: 0       urlDrugName  rating         effectiveness  \\\n",
       "0        2202         enalapril       4      Highly Effective   \n",
       "1        3117  ortho-tri-cyclen       1      Highly Effective   \n",
       "2        1146           ponstel      10      Highly Effective   \n",
       "3        3947          prilosec       3  Marginally Effective   \n",
       "4        1951            lyrica       2  Marginally Effective   \n",
       "\n",
       "           sideEffects                               condition  \\\n",
       "0    Mild Side Effects  management of congestive heart failure   \n",
       "1  Severe Side Effects                        birth prevention   \n",
       "2      No Side Effects                        menstrual cramps   \n",
       "3    Mild Side Effects                             acid reflux   \n",
       "4  Severe Side Effects                            fibromyalgia   \n",
       "\n",
       "                                      benefitsReview  \\\n",
       "0  slowed progression left ventricular dysfunctio...   \n",
       "1  although type birth control con pro help cramp...   \n",
       "2  used cramp badly would leave balled bed least ...   \n",
       "3  acid reflux went away month day drug heartburn...   \n",
       "4  think lyrica starting help pain side effect se...   \n",
       "\n",
       "                                   sideEffectsReview  \\\n",
       "0  cough hypotension proteinuria impotence renal ...   \n",
       "1  heavy cycle cramp hot flash fatigue long lasti...   \n",
       "2                   heavier bleeding clotting normal   \n",
       "3  constipation dry mouth mild dizziness would go...   \n",
       "4  felt extremely drugged dopey could drive med a...   \n",
       "\n",
       "                                      commentsReview  \n",
       "0  monitor blood pressure weight ass resolution f...  \n",
       "1            hate birth control would suggest anyone  \n",
       "2  took pill onset menstrual cramp every hour too...  \n",
       "3  given prilosec prescription dose mg per day me...  \n",
       "4                                                see  "
      ]
     },
     "execution_count": 2,
     "metadata": {},
     "output_type": "execute_result"
    }
   ],
   "source": [
    "#Preprocessing the Data\n",
    "\n",
    "\n",
    "import pandas as pd\n",
    "import re\n",
    "import nltk\n",
    "from nltk.corpus import stopwords\n",
    "from nltk.stem import WordNetLemmatizer\n",
    "\n",
    "# Download necessary NLTK resources only once\n",
    "nltk.download('stopwords')\n",
    "nltk.download('wordnet')\n",
    "\n",
    "# Initialize lemmatizer and stop words\n",
    "lemmatizer = WordNetLemmatizer()\n",
    "english_stopwords = set(stopwords.words('english'))\n",
    "\n",
    "def preprocess_text(text):\n",
    "    # Convert non-string data to string\n",
    "    if not isinstance(text, str):\n",
    "        text = str(text)\n",
    "    \n",
    "    # Remove non-alphabetic characters\n",
    "    text = re.sub(r'[^a-zA-Z]', ' ', text)\n",
    "\n",
    "    # Tokenize and remove stop words\n",
    "    tokens = text.split()\n",
    "    tokens = [word for word in tokens if word not in english_stopwords]\n",
    "\n",
    "    # Lemmatization\n",
    "    tokens = [lemmatizer.lemmatize(word) for word in tokens]\n",
    "\n",
    "    # Rejoin tokens into a single string\n",
    "    return ' '.join(tokens)\n",
    "\n",
    "# Apply preprocessing to each text column\n",
    "columns_to_process = ['benefitsReview', 'sideEffectsReview', 'commentsReview']\n",
    "for column in columns_to_process:\n",
    "    train_data[column] = train_data[column].str.lower().apply(preprocess_text)\n",
    "    test_data[column] = test_data[column].str.lower().apply(preprocess_text)\n",
    "\n",
    "train_data.head()\n"
   ]
  },
  {
   "cell_type": "code",
   "execution_count": null,
   "id": "fca36b73",
   "metadata": {},
   "outputs": [],
   "source": [
    "#Text Data Analysis and Feature Extraction\n",
    "#Combined Approach: Useful when the context of the text across different columns is related and can be considered as a whole.\n",
    "    \n",
    "\n",
    "# 1. Import Necessary Libraries for Analysis\n",
    "import pandas as pd\n",
    "from collections import Counter\n",
    "import matplotlib.pyplot as plt\n",
    "from sklearn.feature_extraction.text import TfidfVectorizer\n",
    "\n",
    "# Assuming train_data and test_data are already loaded and preprocessed\n",
    "\n",
    "# 2. Concatenate Text Columns (If needed)\n",
    "# Combining 'benefitsReview', 'sideEffectsReview', 'commentsReview' into a single column\n",
    "train_data['combined_text'] = train_data[['benefitsReview', 'sideEffectsReview', 'commentsReview']].agg(' '.join, axis=1)\n",
    "test_data['combined_text'] = test_data[['benefitsReview', 'sideEffectsReview', 'commentsReview']].agg(' '.join, axis=1)\n",
    "\n",
    "# 3. Exploratory Analysis: Word Frequency\n",
    "all_text = ' '.join(train_data['combined_text'])\n",
    "word_counts = Counter(all_text.split())\n",
    "most_common_words = word_counts.most_common(30)\n",
    "print(\"Most Common Words:\", most_common_words)\n",
    "\n",
    "words, counts = zip(*most_common_words)\n",
    "plt.figure(figsize=(10, 6))\n",
    "plt.bar(words, counts)\n",
    "plt.xlabel('Words')\n",
    "plt.ylabel('Frequency')\n",
    "plt.xticks(rotation=45)\n",
    "plt.title('Top 30 Most Common Words')\n",
    "plt.show()\n",
    "\n",
    "# 4. Apply TF-IDF Vectorization\n",
    "tfidf_vectorizer = TfidfVectorizer(max_features=1000)  # You can tune these parameters\n",
    "train_tfidf = tfidf_vectorizer.fit_transform(train_data['combined_text'])\n",
    "test_tfidf = tfidf_vectorizer.transform(test_data['combined_text'])\n",
    "\n",
    "# Now, train_tfidf and test_tfidf are ready for use in machine learning models.\n"
   ]
  },
  {
   "cell_type": "code",
   "execution_count": 9,
   "id": "5e7a3573",
   "metadata": {},
   "outputs": [
    {
     "name": "stdout",
     "output_type": "stream",
     "text": [
      "Most Common Words: [('day', 2962), ('effect', 2350), ('side', 2000), ('take', 1808), ('taking', 1703), ('mg', 1634), ('time', 1601), ('drug', 1542), ('pain', 1426), ('medication', 1337), ('week', 1317), ('year', 1148), ('one', 1127), ('would', 1124), ('also', 1106), ('month', 1084), ('treatment', 1077), ('skin', 933), ('took', 919), ('first', 893), ('pill', 859), ('get', 820), ('night', 793), ('sleep', 781), ('feel', 774), ('doctor', 768), ('started', 754), ('like', 733), ('hour', 711), ('felt', 680)]\n"
     ]
    },
    {
     "data": {
      "image/png": "[encoded data removed]",
      "text/plain": [
       "<Figure size 1000x600 with 1 Axes>"
      ]
     },
     "metadata": {},
     "output_type": "display_data"
    }
   ],
   "source": [
    "#Text Data Analysis and Feature Extraction\n",
    "#Separate Approach: Better when each text column has distinct contextual information that you want to capture individually.\n",
    "\n",
    "\n",
    "# Import Necessary Libraries\n",
    "import pandas as pd\n",
    "from collections import Counter\n",
    "import matplotlib.pyplot as plt\n",
    "from sklearn.feature_extraction.text import TfidfVectorizer\n",
    "from sklearn.preprocessing import OneHotEncoder, StandardScaler\n",
    "from sklearn.decomposition import TruncatedSVD\n",
    "from scipy.sparse import hstack, csr_matrix\n",
    "\n",
    "\n",
    "# Assuming train_data and test_data are already loaded and preprocessed\n",
    "\n",
    "# Exploratory Analysis: Word Frequency\n",
    "# Combining text for exploratory analysis\n",
    "all_text = ' '.join(train_data[['benefitsReview', 'sideEffectsReview', 'commentsReview']].agg(' '.join, axis=1))\n",
    "word_counts = Counter(all_text.split())\n",
    "most_common_words = word_counts.most_common(30)\n",
    "print(\"Most Common Words:\", most_common_words)\n",
    "\n",
    "words, counts = zip(*most_common_words)\n",
    "plt.figure(figsize=(10, 6))\n",
    "plt.bar(words, counts)\n",
    "plt.xlabel('Words')\n",
    "plt.ylabel('Frequency')\n",
    "plt.xticks(rotation=45)\n",
    "plt.title('Top 30 Most Common Words')\n",
    "plt.show()\n",
    "\n",
    "# One-Hot Encoding for Categorical Columns\n",
    "encoder = OneHotEncoder(handle_unknown='ignore')\n",
    "encoded_features_train = encoder.fit_transform(train_data[['effectiveness', 'sideEffects', 'condition']])\n",
    "encoded_features_test = encoder.transform(test_data[['effectiveness', 'sideEffects', 'condition']])\n",
    "\n",
    "# Separate TF-IDF Vectorization for Text Columns\n",
    "tfidf_vectorizer = TfidfVectorizer(max_features=1000)\n",
    "\n",
    "# Applying TF-IDF Vectorization\n",
    "benefits_tfidf_train = tfidf_vectorizer.fit_transform(train_data['benefitsReview'])\n",
    "benefits_tfidf_test = tfidf_vectorizer.transform(test_data['benefitsReview'])\n",
    "\n",
    "sideEffects_tfidf_train = tfidf_vectorizer.fit_transform(train_data['sideEffectsReview'])\n",
    "sideEffects_tfidf_test = tfidf_vectorizer.transform(test_data['sideEffectsReview'])\n",
    "\n",
    "comments_tfidf_train = tfidf_vectorizer.fit_transform(train_data['commentsReview'])\n",
    "comments_tfidf_test = tfidf_vectorizer.transform(test_data['commentsReview'])\n",
    "\n",
    "# Combining All Features\n",
    "train_features = hstack([csr_matrix(benefits_svd_train), csr_matrix(sideEffects_svd_train), csr_matrix(comments_svd_train), encoded_features_train])\n",
    "test_features = hstack([csr_matrix(benefits_svd_test), csr_matrix(sideEffects_svd_test), csr_matrix(comments_svd_test), encoded_features_test])\n",
    "\n",
    "# Now, train_features and test_features are ready for use in machine learning models.\n"
   ]
  },
  {
   "cell_type": "code",
   "execution_count": 19,
   "id": "fefee769",
   "metadata": {},
   "outputs": [
    {
     "name": "stdout",
     "output_type": "stream",
     "text": [
      "LightGBM Classifier Evaluation:\n",
      "              precision    recall  f1-score   support\n",
      "\n",
      "           1       0.58      0.85      0.69       115\n",
      "           2       0.00      0.00      0.00        33\n",
      "           3       0.24      0.24      0.24        49\n",
      "           4       0.24      0.09      0.13        44\n",
      "           5       0.40      0.06      0.10        67\n",
      "           6       0.25      0.10      0.15        58\n",
      "           7       0.29      0.27      0.28       121\n",
      "           8       0.40      0.51      0.45       190\n",
      "           9       0.25      0.19      0.22       133\n",
      "          10       0.61      0.85      0.71       226\n",
      "\n",
      "    accuracy                           0.46      1036\n",
      "   macro avg       0.33      0.32      0.30      1036\n",
      "weighted avg       0.40      0.46      0.41      1036\n",
      "\n",
      "Accuracy: 0.4555984555984556\n"
     ]
    }
   ],
   "source": [
    "import lightgbm as lgb\n",
    "from sklearn.metrics import classification_report, accuracy_score\n",
    "import numpy as np\n",
    "\n",
    "# Define the target variable\n",
    "target = train_data['rating']  # Replace 'rating' with your actual target variable\n",
    "\n",
    "# Convert target to numerical values (assuming it's categorical)\n",
    "target_mapping = {value: index for index, value in enumerate(target.unique())}\n",
    "target = target.map(target_mapping)\n",
    "\n",
    "# Create a LightGBM dataset\n",
    "train_dataset = lgb.Dataset(train_features.astype(np.float32), label=target)\n",
    "\n",
    "# Define LightGBM parameters (you can adjust these)\n",
    "params = {\n",
    "    'objective': 'multiclass',  # Change to 'binary' for binary classification\n",
    "    'num_class': len(target.unique()),  # Number of classes\n",
    "    'boosting_type': 'gbdt',\n",
    "    'metric': 'multi_logloss',  # Change metric for different evaluation criteria\n",
    "    'num_leaves': 31,  # Adjust as needed\n",
    "    'learning_rate': 0.05,  # Adjust as needed\n",
    "    'feature_fraction': 0.9,  # Adjust as needed\n",
    "    'bagging_fraction': 0.8,  # Adjust as needed\n",
    "    'bagging_freq': 5,  # Adjust as needed\n",
    "    'verbose': -1,\n",
    "    'random_seed': 42\n",
    "}\n",
    "\n",
    "# Train the LightGBM model\n",
    "num_boost_round = 1000  # You can adjust the number of boosting rounds\n",
    "model = lgb.train(params, train_dataset, num_boost_round=num_boost_round)\n",
    "\n",
    "# Predicting on the test set\n",
    "predicted_lgb = model.predict(test_features.astype(np.float32), num_iteration=model.best_iteration)\n",
    "\n",
    "# Convert predicted probabilities to class labels\n",
    "predicted_lgb_labels = np.argmax(predicted_lgb, axis=1)\n",
    "\n",
    "# Reverse mapping to get original labels\n",
    "predicted_lgb_labels = [list(target_mapping.keys())[list(target_mapping.values()).index(label)] for label in predicted_lgb_labels]\n",
    "\n",
    "# Evaluating the LightGBM classifier\n",
    "print(\"LightGBM Classifier Evaluation:\")\n",
    "print(classification_report(test_data['rating'], predicted_lgb_labels))  # Replace 'rating' with your actual target variable\n",
    "print(\"Accuracy:\", accuracy_score(test_data['rating'], predicted_lgb_labels))\n"
   ]
  },
  {
   "cell_type": "code",
   "execution_count": 23,
   "id": "6d7dd613",
   "metadata": {},
   "outputs": [
    {
     "name": "stderr",
     "output_type": "stream",
     "text": [
      "Epoch 1/10: 100%|███████████████████████████████| 49/49 [00:01<00:00, 29.71it/s]\n"
     ]
    },
    {
     "name": "stdout",
     "output_type": "stream",
     "text": [
      "Epoch 1/10, Loss: 105.1917\n"
     ]
    },
    {
     "name": "stderr",
     "output_type": "stream",
     "text": [
      "Epoch 2/10: 100%|██████████████████████████████| 49/49 [00:00<00:00, 360.84it/s]\n"
     ]
    },
    {
     "name": "stdout",
     "output_type": "stream",
     "text": [
      "Epoch 2/10, Loss: 82.0902\n"
     ]
    },
    {
     "name": "stderr",
     "output_type": "stream",
     "text": [
      "Epoch 3/10: 100%|██████████████████████████████| 49/49 [00:00<00:00, 363.24it/s]\n"
     ]
    },
    {
     "name": "stdout",
     "output_type": "stream",
     "text": [
      "Epoch 3/10, Loss: 69.1277\n"
     ]
    },
    {
     "name": "stderr",
     "output_type": "stream",
     "text": [
      "Epoch 4/10: 100%|██████████████████████████████| 49/49 [00:00<00:00, 379.90it/s]\n"
     ]
    },
    {
     "name": "stdout",
     "output_type": "stream",
     "text": [
      "Epoch 4/10, Loss: 61.9029\n"
     ]
    },
    {
     "name": "stderr",
     "output_type": "stream",
     "text": [
      "Epoch 5/10: 100%|██████████████████████████████| 49/49 [00:00<00:00, 395.97it/s]\n"
     ]
    },
    {
     "name": "stdout",
     "output_type": "stream",
     "text": [
      "Epoch 5/10, Loss: 56.9559\n"
     ]
    },
    {
     "name": "stderr",
     "output_type": "stream",
     "text": [
      "Epoch 6/10: 100%|██████████████████████████████| 49/49 [00:00<00:00, 379.96it/s]\n"
     ]
    },
    {
     "name": "stdout",
     "output_type": "stream",
     "text": [
      "Epoch 6/10, Loss: 52.3899\n"
     ]
    },
    {
     "name": "stderr",
     "output_type": "stream",
     "text": [
      "Epoch 7/10: 100%|██████████████████████████████| 49/49 [00:00<00:00, 372.14it/s]\n"
     ]
    },
    {
     "name": "stdout",
     "output_type": "stream",
     "text": [
      "Epoch 7/10, Loss: 48.0903\n"
     ]
    },
    {
     "name": "stderr",
     "output_type": "stream",
     "text": [
      "Epoch 8/10: 100%|██████████████████████████████| 49/49 [00:00<00:00, 382.71it/s]\n"
     ]
    },
    {
     "name": "stdout",
     "output_type": "stream",
     "text": [
      "Epoch 8/10, Loss: 44.1857\n"
     ]
    },
    {
     "name": "stderr",
     "output_type": "stream",
     "text": [
      "Epoch 9/10: 100%|██████████████████████████████| 49/49 [00:00<00:00, 431.31it/s]\n"
     ]
    },
    {
     "name": "stdout",
     "output_type": "stream",
     "text": [
      "Epoch 9/10, Loss: 40.5384\n"
     ]
    },
    {
     "name": "stderr",
     "output_type": "stream",
     "text": [
      "Epoch 10/10: 100%|█████████████████████████████| 49/49 [00:00<00:00, 336.07it/s]\n"
     ]
    },
    {
     "name": "stdout",
     "output_type": "stream",
     "text": [
      "Epoch 10/10, Loss: 37.0232\n",
      "MLP Classifier Evaluation:\n",
      "              precision    recall  f1-score   support\n",
      "\n",
      "           1       0.60      0.83      0.69       115\n",
      "           2       0.00      0.00      0.00        33\n",
      "           3       0.27      0.33      0.29        49\n",
      "           4       0.36      0.11      0.17        44\n",
      "           5       0.22      0.16      0.19        67\n",
      "           6       0.15      0.05      0.08        58\n",
      "           7       0.31      0.39      0.34       121\n",
      "           8       0.39      0.42      0.41       190\n",
      "           9       0.28      0.26      0.27       133\n",
      "          10       0.65      0.73      0.69       226\n",
      "\n",
      "    accuracy                           0.44      1036\n",
      "   macro avg       0.32      0.33      0.31      1036\n",
      "weighted avg       0.40      0.44      0.42      1036\n",
      "\n",
      "Accuracy: 0.4420849420849421\n"
     ]
    },
    {
     "name": "stderr",
     "output_type": "stream",
     "text": [
      "/home/ayusee/.local/lib/python3.8/site-packages/sklearn/metrics/_classification.py:1334: UndefinedMetricWarning: Precision and F-score are ill-defined and being set to 0.0 in labels with no predicted samples. Use `zero_division` parameter to control this behavior.\n",
      "  _warn_prf(average, modifier, msg_start, len(result))\n",
      "/home/ayusee/.local/lib/python3.8/site-packages/sklearn/metrics/_classification.py:1334: UndefinedMetricWarning: Precision and F-score are ill-defined and being set to 0.0 in labels with no predicted samples. Use `zero_division` parameter to control this behavior.\n",
      "  _warn_prf(average, modifier, msg_start, len(result))\n",
      "/home/ayusee/.local/lib/python3.8/site-packages/sklearn/metrics/_classification.py:1334: UndefinedMetricWarning: Precision and F-score are ill-defined and being set to 0.0 in labels with no predicted samples. Use `zero_division` parameter to control this behavior.\n",
      "  _warn_prf(average, modifier, msg_start, len(result))\n"
     ]
    }
   ],
   "source": [
    "import torch\n",
    "import torch.nn as nn\n",
    "import torch.optim as optim\n",
    "from sklearn.metrics import classification_report, accuracy_score\n",
    "from sklearn.preprocessing import LabelEncoder\n",
    "from torch.utils.data import DataLoader, TensorDataset\n",
    "from tqdm import tqdm\n",
    "\n",
    "# Define your target variable\n",
    "target = train_data['rating']  # Replace 'rating' with your actual target variable\n",
    "\n",
    "# Initialize LabelEncoder\n",
    "label_encoder = LabelEncoder()\n",
    "\n",
    "# Encode the labels\n",
    "train_labels = label_encoder.fit_transform(target)\n",
    "\n",
    "# Define your MLP model\n",
    "class MLP(nn.Module):\n",
    "    def __init__(self, input_dim, hidden_dim, output_dim):\n",
    "        super(MLP, self).__init__()\n",
    "        self.fc1 = nn.Linear(input_dim, hidden_dim)\n",
    "        self.relu = nn.ReLU()\n",
    "        self.fc2 = nn.Linear(hidden_dim, output_dim)\n",
    "\n",
    "    def forward(self, x):\n",
    "        x = self.fc1(x)\n",
    "        x = self.relu(x)\n",
    "        x = self.fc2(x)\n",
    "        return x\n",
    "\n",
    "# Define your hyperparameters\n",
    "input_dim = train_features.shape[1]  # Adjust based on your feature dimension\n",
    "hidden_dim = 128  # Adjust as needed\n",
    "output_dim = len(label_encoder.classes_)  # Number of classes\n",
    "\n",
    "# Initialize and preprocess your data (train_features, test_features, train_labels, test_labels)\n",
    "# Ensure that train_features and test_features are in the same format as in the LightGBM model\n",
    "\n",
    "# Define your DataLoader for batching\n",
    "batch_size = 64  # Adjust as needed\n",
    "train_dataset = TensorDataset(torch.tensor(train_features.toarray()), torch.tensor(train_labels))\n",
    "train_loader = DataLoader(train_dataset, batch_size=batch_size, shuffle=True)\n",
    "\n",
    "# Initialize your MLP model\n",
    "model = MLP(input_dim, hidden_dim, output_dim)\n",
    "\n",
    "# Define your loss function and optimizer\n",
    "criterion = nn.CrossEntropyLoss()\n",
    "optimizer = optim.Adam(model.parameters(), lr=0.001)  # Adjust learning rate as needed\n",
    "\n",
    "# Training loop\n",
    "num_epochs = 10  # Adjust as needed\n",
    "for epoch in range(num_epochs):\n",
    "    model.train()\n",
    "    total_loss = 0\n",
    "    for data, labels in tqdm(train_loader, desc=f\"Epoch {epoch+1}/{num_epochs}\"):\n",
    "        optimizer.zero_grad()\n",
    "        outputs = model(data.float())\n",
    "        loss = criterion(outputs, labels)\n",
    "        loss.backward()\n",
    "        optimizer.step()\n",
    "        total_loss += loss.item()\n",
    "    print(f\"Epoch {epoch+1}/{num_epochs}, Loss: {total_loss:.4f}\")\n",
    "\n",
    "# Testing\n",
    "model.eval()\n",
    "predicted_labels = []\n",
    "with torch.no_grad():\n",
    "    for data in test_features:\n",
    "        outputs = model(torch.tensor(data.toarray()).float())\n",
    "        predicted_label = torch.argmax(outputs).item()\n",
    "        predicted_labels.append(predicted_label)\n",
    "\n",
    "# Reverse mapping to get original labels\n",
    "predicted_labels = label_encoder.inverse_transform(predicted_labels)\n",
    "\n",
    "# Evaluating the MLP classifier\n",
    "print(\"MLP Classifier Evaluation:\")\n",
    "print(classification_report(test_data['rating'], predicted_labels))  # Replace 'rating' with your actual target variable\n",
    "print(\"Accuracy:\", accuracy_score(test_data['rating'], predicted_labels))\n"
   ]
  },
  {
   "cell_type": "code",
   "execution_count": 32,
   "id": "043f92ca",
   "metadata": {},
   "outputs": [
    {
     "name": "stderr",
     "output_type": "stream",
     "text": [
      "Epoch 1/10: 100%|███████████████████████████████| 49/49 [04:24<00:00,  5.40s/it]\n"
     ]
    },
    {
     "name": "stdout",
     "output_type": "stream",
     "text": [
      "Epoch 1/10, Loss: 103.4135\n"
     ]
    },
    {
     "name": "stderr",
     "output_type": "stream",
     "text": [
      "Epoch 2/10: 100%|███████████████████████████████| 49/49 [03:49<00:00,  4.68s/it]\n"
     ]
    },
    {
     "name": "stdout",
     "output_type": "stream",
     "text": [
      "Epoch 2/10, Loss: 102.6928\n"
     ]
    },
    {
     "name": "stderr",
     "output_type": "stream",
     "text": [
      "Epoch 3/10: 100%|███████████████████████████████| 49/49 [03:50<00:00,  4.70s/it]\n"
     ]
    },
    {
     "name": "stdout",
     "output_type": "stream",
     "text": [
      "Epoch 3/10, Loss: 102.5974\n"
     ]
    },
    {
     "name": "stderr",
     "output_type": "stream",
     "text": [
      "Epoch 4/10: 100%|███████████████████████████████| 49/49 [04:18<00:00,  5.27s/it]\n"
     ]
    },
    {
     "name": "stdout",
     "output_type": "stream",
     "text": [
      "Epoch 4/10, Loss: 102.4647\n"
     ]
    },
    {
     "name": "stderr",
     "output_type": "stream",
     "text": [
      "Epoch 5/10: 100%|███████████████████████████████| 49/49 [03:54<00:00,  4.79s/it]\n"
     ]
    },
    {
     "name": "stdout",
     "output_type": "stream",
     "text": [
      "Epoch 5/10, Loss: 102.5469\n"
     ]
    },
    {
     "name": "stderr",
     "output_type": "stream",
     "text": [
      "Epoch 6/10: 100%|███████████████████████████████| 49/49 [04:52<00:00,  5.97s/it]\n"
     ]
    },
    {
     "name": "stdout",
     "output_type": "stream",
     "text": [
      "Epoch 6/10, Loss: 102.4523\n"
     ]
    },
    {
     "name": "stderr",
     "output_type": "stream",
     "text": [
      "Epoch 7/10: 100%|███████████████████████████████| 49/49 [05:19<00:00,  6.51s/it]\n"
     ]
    },
    {
     "name": "stdout",
     "output_type": "stream",
     "text": [
      "Epoch 7/10, Loss: 102.5955\n"
     ]
    },
    {
     "name": "stderr",
     "output_type": "stream",
     "text": [
      "Epoch 8/10: 100%|███████████████████████████████| 49/49 [05:19<00:00,  6.51s/it]\n"
     ]
    },
    {
     "name": "stdout",
     "output_type": "stream",
     "text": [
      "Epoch 8/10, Loss: 102.5904\n"
     ]
    },
    {
     "name": "stderr",
     "output_type": "stream",
     "text": [
      "Epoch 9/10: 100%|███████████████████████████████| 49/49 [05:20<00:00,  6.53s/it]\n"
     ]
    },
    {
     "name": "stdout",
     "output_type": "stream",
     "text": [
      "Epoch 9/10, Loss: 102.5553\n"
     ]
    },
    {
     "name": "stderr",
     "output_type": "stream",
     "text": [
      "Epoch 10/10: 100%|██████████████████████████████| 49/49 [05:19<00:00,  6.51s/it]\n",
      "/tmp/ipykernel_10537/1167337017.py:60: UserWarning: To copy construct from a tensor, it is recommended to use sourceTensor.clone().detach() or sourceTensor.clone().detach().requires_grad_(True), rather than torch.tensor(sourceTensor).\n",
      "  data = torch.tensor(data, dtype=torch.long).unsqueeze(0)  # Add batch dimension\n"
     ]
    },
    {
     "name": "stdout",
     "output_type": "stream",
     "text": [
      "Epoch 10/10, Loss: 102.4518\n",
      "LSTM Classifier Evaluation:\n",
      "              precision    recall  f1-score   support\n",
      "\n",
      "           1       0.00      0.00      0.00       115\n",
      "           2       0.00      0.00      0.00        33\n",
      "           3       0.00      0.00      0.00        49\n",
      "           4       0.00      0.00      0.00        44\n",
      "           5       0.06      1.00      0.12        67\n",
      "           6       0.00      0.00      0.00        58\n",
      "           7       0.00      0.00      0.00       121\n",
      "           8       1.00      0.01      0.01       190\n",
      "           9       0.00      0.00      0.00       133\n",
      "          10       0.00      0.00      0.00       226\n",
      "\n",
      "    accuracy                           0.07      1036\n",
      "   macro avg       0.11      0.10      0.01      1036\n",
      "weighted avg       0.19      0.07      0.01      1036\n",
      "\n",
      "Accuracy: 0.06563706563706563\n"
     ]
    },
    {
     "name": "stderr",
     "output_type": "stream",
     "text": [
      "/home/ayusee/.local/lib/python3.8/site-packages/sklearn/metrics/_classification.py:1334: UndefinedMetricWarning: Precision and F-score are ill-defined and being set to 0.0 in labels with no predicted samples. Use `zero_division` parameter to control this behavior.\n",
      "  _warn_prf(average, modifier, msg_start, len(result))\n",
      "/home/ayusee/.local/lib/python3.8/site-packages/sklearn/metrics/_classification.py:1334: UndefinedMetricWarning: Precision and F-score are ill-defined and being set to 0.0 in labels with no predicted samples. Use `zero_division` parameter to control this behavior.\n",
      "  _warn_prf(average, modifier, msg_start, len(result))\n",
      "/home/ayusee/.local/lib/python3.8/site-packages/sklearn/metrics/_classification.py:1334: UndefinedMetricWarning: Precision and F-score are ill-defined and being set to 0.0 in labels with no predicted samples. Use `zero_division` parameter to control this behavior.\n",
      "  _warn_prf(average, modifier, msg_start, len(result))\n"
     ]
    }
   ],
   "source": [
    "import torch\n",
    "import torch.nn as nn\n",
    "import torch.optim as optim\n",
    "from sklearn.metrics import classification_report, accuracy_score\n",
    "from sklearn.preprocessing import LabelEncoder\n",
    "from torch.utils.data import DataLoader, TensorDataset\n",
    "from tqdm import tqdm\n",
    "from scipy.sparse import csr_matrix\n",
    "\n",
    "# Convert sparse matrices to dense tensors\n",
    "train_features_dense = torch.tensor(train_features.toarray(), dtype=torch.long)\n",
    "test_features_dense = torch.tensor(test_features.toarray(), dtype=torch.long)\n",
    "\n",
    "# Define your LSTM model\n",
    "class LSTMClassifier(nn.Module):\n",
    "    def __init__(self, input_size, hidden_size, num_classes):\n",
    "        super(LSTMClassifier, self).__init__()\n",
    "        self.embedding = nn.Embedding(input_size, embedding_dim)\n",
    "        self.lstm = nn.LSTM(embedding_dim, hidden_size, batch_first=True)\n",
    "        self.fc = nn.Linear(hidden_size, num_classes)\n",
    "\n",
    "    def forward(self, x):\n",
    "        x = self.embedding(x.long())  # Convert input to Long data type\n",
    "        out, _ = self.lstm(x)\n",
    "        out = out[:, -1, :]  # Get the last time step's output\n",
    "        x = self.fc(out)\n",
    "        return x\n",
    "\n",
    "# Define your hyperparameters\n",
    "embedding_dim = 100  # Adjust as needed\n",
    "hidden_size = 128  # Adjust as needed\n",
    "num_classes = len(target.unique())  # Number of classes\n",
    "\n",
    "# Initialize your LSTM model\n",
    "model = LSTMClassifier(vocab_size, hidden_size, num_classes)\n",
    "\n",
    "# Define your loss function and optimizer\n",
    "criterion = nn.CrossEntropyLoss()\n",
    "optimizer = optim.Adam(model.parameters(), lr=0.001)  # Adjust learning rate as needed\n",
    "\n",
    "# Training loop\n",
    "num_epochs = 10  # Adjust as needed\n",
    "for epoch in range(num_epochs):\n",
    "    model.train()\n",
    "    total_loss = 0\n",
    "    for data, labels in tqdm(train_loader, desc=f\"Epoch {epoch+1}/{num_epochs}\"):\n",
    "        optimizer.zero_grad()\n",
    "        outputs = model(data)\n",
    "        loss = criterion(outputs, labels)\n",
    "        loss.backward()\n",
    "        optimizer.step()\n",
    "        total_loss += loss.item()\n",
    "    print(f\"Epoch {epoch+1}/{num_epochs}, Loss: {total_loss:.4f}\")\n",
    "\n",
    "# Testing\n",
    "model.eval()\n",
    "predicted_labels = []\n",
    "with torch.no_grad():\n",
    "    for data in test_features_dense:\n",
    "        data = torch.tensor(data, dtype=torch.long).unsqueeze(0)  # Add batch dimension\n",
    "        outputs = model(data)\n",
    "        predicted_label = torch.argmax(outputs).item()\n",
    "        predicted_labels.append(predicted_label)\n",
    "\n",
    "# Reverse mapping to get original labels\n",
    "predicted_labels = [list(target_mapping.keys())[list(target_mapping.values()).index(label)] for label in predicted_labels]\n",
    "\n",
    "# Evaluating the LSTM classifier\n",
    "print(\"LSTM Classifier Evaluation:\")\n",
    "print(classification_report(test_data['rating'], predicted_labels))  # Replace 'rating' with your actual target variable\n",
    "print(\"Accuracy:\", accuracy_score(test_data['rating'], predicted_labels))\n"
   ]
  },
  {
   "cell_type": "code",
   "execution_count": null,
   "id": "aa4fe16e",
   "metadata": {},
   "outputs": [],
   "source": []
  }
 ],
 "metadata": {
  "kernelspec": {
   "display_name": "Python 3 (ipykernel)",
   "language": "python",
   "name": "python3"
  },
  "language_info": {
   "codemirror_mode": {
    "name": "ipython",
    "version": 3
   },
   "file_extension": ".py",
   "mimetype": "text/x-python",
   "name": "python",
   "nbconvert_exporter": "python",
   "pygments_lexer": "ipython3",
   "version": "3.8.10"
  }
 },
 "nbformat": 4,
 "nbformat_minor": 5
}
